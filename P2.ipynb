{
 "cells": [
  {
   "cell_type": "code",
   "execution_count": 194,
   "id": "5b400ad3",
   "metadata": {},
   "outputs": [],
   "source": [
    "import pandas as pd\n",
    "import numpy as np\n",
    "import matplotlib.pyplot as plt\n",
    "from datetime import datetime\n",
    "import itertools\n",
    "import copy\n",
    "import json\n",
    "import math\n",
    "from collections import OrderedDict\n",
    "import warnings\n",
    "warnings.filterwarnings('ignore')\n",
    "%matplotlib inline"
   ]
  },
  {
   "cell_type": "code",
   "execution_count": 195,
   "id": "8b42698f",
   "metadata": {},
   "outputs": [
    {
     "data": {
      "text/html": [
       "<div>\n",
       "<style scoped>\n",
       "    .dataframe tbody tr th:only-of-type {\n",
       "        vertical-align: middle;\n",
       "    }\n",
       "\n",
       "    .dataframe tbody tr th {\n",
       "        vertical-align: top;\n",
       "    }\n",
       "\n",
       "    .dataframe thead th {\n",
       "        text-align: right;\n",
       "    }\n",
       "</style>\n",
       "<table border=\"1\" class=\"dataframe\">\n",
       "  <thead>\n",
       "    <tr style=\"text-align: right;\">\n",
       "      <th></th>\n",
       "      <th>tripduration</th>\n",
       "      <th>starttime</th>\n",
       "      <th>stoptime</th>\n",
       "      <th>start station id</th>\n",
       "      <th>start station name</th>\n",
       "      <th>start station latitude</th>\n",
       "      <th>start station longitude</th>\n",
       "      <th>end station id</th>\n",
       "      <th>end station name</th>\n",
       "      <th>end station latitude</th>\n",
       "      <th>end station longitude</th>\n",
       "      <th>bikeid</th>\n",
       "      <th>usertype</th>\n",
       "      <th>birth year</th>\n",
       "      <th>gender</th>\n",
       "    </tr>\n",
       "  </thead>\n",
       "  <tbody>\n",
       "    <tr>\n",
       "      <th>0</th>\n",
       "      <td>364</td>\n",
       "      <td>2017-07-01 00:00:00</td>\n",
       "      <td>2017-07-01 00:06:05</td>\n",
       "      <td>539</td>\n",
       "      <td>Metropolitan Ave &amp; Bedford Ave</td>\n",
       "      <td>40.715348</td>\n",
       "      <td>-73.960241</td>\n",
       "      <td>3107</td>\n",
       "      <td>Bedford Ave &amp; Nassau Ave</td>\n",
       "      <td>40.723117</td>\n",
       "      <td>-73.952123</td>\n",
       "      <td>14744</td>\n",
       "      <td>Subscriber</td>\n",
       "      <td>1986.0</td>\n",
       "      <td>1</td>\n",
       "    </tr>\n",
       "    <tr>\n",
       "      <th>1</th>\n",
       "      <td>2142</td>\n",
       "      <td>2017-07-01 00:00:03</td>\n",
       "      <td>2017-07-01 00:35:46</td>\n",
       "      <td>293</td>\n",
       "      <td>Lafayette St &amp; E 8 St</td>\n",
       "      <td>40.730207</td>\n",
       "      <td>-73.991026</td>\n",
       "      <td>3425</td>\n",
       "      <td>2 Ave  &amp; E 104 St</td>\n",
       "      <td>40.789211</td>\n",
       "      <td>-73.943708</td>\n",
       "      <td>19587</td>\n",
       "      <td>Subscriber</td>\n",
       "      <td>1981.0</td>\n",
       "      <td>1</td>\n",
       "    </tr>\n",
       "    <tr>\n",
       "      <th>2</th>\n",
       "      <td>328</td>\n",
       "      <td>2017-07-01 00:00:08</td>\n",
       "      <td>2017-07-01 00:05:37</td>\n",
       "      <td>3242</td>\n",
       "      <td>Schermerhorn St &amp; Court St</td>\n",
       "      <td>40.691029</td>\n",
       "      <td>-73.991834</td>\n",
       "      <td>3397</td>\n",
       "      <td>Court St &amp; Nelson St</td>\n",
       "      <td>40.676395</td>\n",
       "      <td>-73.998699</td>\n",
       "      <td>27937</td>\n",
       "      <td>Subscriber</td>\n",
       "      <td>1984.0</td>\n",
       "      <td>2</td>\n",
       "    </tr>\n",
       "    <tr>\n",
       "      <th>3</th>\n",
       "      <td>2530</td>\n",
       "      <td>2017-07-01 00:00:11</td>\n",
       "      <td>2017-07-01 00:42:22</td>\n",
       "      <td>2002</td>\n",
       "      <td>Wythe Ave &amp; Metropolitan Ave</td>\n",
       "      <td>40.716887</td>\n",
       "      <td>-73.963198</td>\n",
       "      <td>398</td>\n",
       "      <td>Atlantic Ave &amp; Furman St</td>\n",
       "      <td>40.691652</td>\n",
       "      <td>-73.999979</td>\n",
       "      <td>26066</td>\n",
       "      <td>Subscriber</td>\n",
       "      <td>1985.0</td>\n",
       "      <td>1</td>\n",
       "    </tr>\n",
       "    <tr>\n",
       "      <th>4</th>\n",
       "      <td>2534</td>\n",
       "      <td>2017-07-01 00:00:15</td>\n",
       "      <td>2017-07-01 00:42:29</td>\n",
       "      <td>2002</td>\n",
       "      <td>Wythe Ave &amp; Metropolitan Ave</td>\n",
       "      <td>40.716887</td>\n",
       "      <td>-73.963198</td>\n",
       "      <td>398</td>\n",
       "      <td>Atlantic Ave &amp; Furman St</td>\n",
       "      <td>40.691652</td>\n",
       "      <td>-73.999979</td>\n",
       "      <td>29408</td>\n",
       "      <td>Subscriber</td>\n",
       "      <td>1982.0</td>\n",
       "      <td>2</td>\n",
       "    </tr>\n",
       "  </tbody>\n",
       "</table>\n",
       "</div>"
      ],
      "text/plain": [
       "   tripduration            starttime             stoptime  start station id  \\\n",
       "0           364  2017-07-01 00:00:00  2017-07-01 00:06:05               539   \n",
       "1          2142  2017-07-01 00:00:03  2017-07-01 00:35:46               293   \n",
       "2           328  2017-07-01 00:00:08  2017-07-01 00:05:37              3242   \n",
       "3          2530  2017-07-01 00:00:11  2017-07-01 00:42:22              2002   \n",
       "4          2534  2017-07-01 00:00:15  2017-07-01 00:42:29              2002   \n",
       "\n",
       "               start station name  start station latitude  \\\n",
       "0  Metropolitan Ave & Bedford Ave               40.715348   \n",
       "1           Lafayette St & E 8 St               40.730207   \n",
       "2      Schermerhorn St & Court St               40.691029   \n",
       "3    Wythe Ave & Metropolitan Ave               40.716887   \n",
       "4    Wythe Ave & Metropolitan Ave               40.716887   \n",
       "\n",
       "   start station longitude  end station id          end station name  \\\n",
       "0               -73.960241            3107  Bedford Ave & Nassau Ave   \n",
       "1               -73.991026            3425         2 Ave  & E 104 St   \n",
       "2               -73.991834            3397      Court St & Nelson St   \n",
       "3               -73.963198             398  Atlantic Ave & Furman St   \n",
       "4               -73.963198             398  Atlantic Ave & Furman St   \n",
       "\n",
       "   end station latitude  end station longitude  bikeid    usertype  \\\n",
       "0             40.723117             -73.952123   14744  Subscriber   \n",
       "1             40.789211             -73.943708   19587  Subscriber   \n",
       "2             40.676395             -73.998699   27937  Subscriber   \n",
       "3             40.691652             -73.999979   26066  Subscriber   \n",
       "4             40.691652             -73.999979   29408  Subscriber   \n",
       "\n",
       "   birth year  gender  \n",
       "0      1986.0       1  \n",
       "1      1981.0       1  \n",
       "2      1984.0       2  \n",
       "3      1985.0       1  \n",
       "4      1982.0       2  "
      ]
     },
     "execution_count": 195,
     "metadata": {},
     "output_type": "execute_result"
    }
   ],
   "source": [
    "df = pd.read_csv(\"/Users/sreechandanakurella/Documents/Data Mining/Project-2/201707-citibike-tripdata.csv\")\n",
    "df.head()"
   ]
  },
  {
   "cell_type": "code",
   "execution_count": 196,
   "id": "41844e03",
   "metadata": {},
   "outputs": [
    {
     "name": "stdout",
     "output_type": "stream",
     "text": [
      "<class 'pandas.core.frame.DataFrame'>\n",
      "RangeIndex: 1735599 entries, 0 to 1735598\n",
      "Data columns (total 15 columns):\n",
      " #   Column                   Dtype  \n",
      "---  ------                   -----  \n",
      " 0   tripduration             int64  \n",
      " 1   starttime                object \n",
      " 2   stoptime                 object \n",
      " 3   start station id         int64  \n",
      " 4   start station name       object \n",
      " 5   start station latitude   float64\n",
      " 6   start station longitude  float64\n",
      " 7   end station id           int64  \n",
      " 8   end station name         object \n",
      " 9   end station latitude     float64\n",
      " 10  end station longitude    float64\n",
      " 11  bikeid                   int64  \n",
      " 12  usertype                 object \n",
      " 13  birth year               float64\n",
      " 14  gender                   int64  \n",
      "dtypes: float64(5), int64(5), object(5)\n",
      "memory usage: 198.6+ MB\n"
     ]
    }
   ],
   "source": [
    "df.info()"
   ]
  },
  {
   "cell_type": "code",
   "execution_count": 197,
   "id": "e0d583c4",
   "metadata": {},
   "outputs": [
    {
     "data": {
      "text/plain": [
       "(1735599, 15)"
      ]
     },
     "execution_count": 197,
     "metadata": {},
     "output_type": "execute_result"
    }
   ],
   "source": [
    "df.shape"
   ]
  },
  {
   "cell_type": "code",
   "execution_count": 198,
   "id": "133c55a6",
   "metadata": {},
   "outputs": [
    {
     "data": {
      "text/plain": [
       "tripduration                    0\n",
       "starttime                       0\n",
       "stoptime                        0\n",
       "start station id                0\n",
       "start station name              0\n",
       "start station latitude          0\n",
       "start station longitude         0\n",
       "end station id                  0\n",
       "end station name                0\n",
       "end station latitude            0\n",
       "end station longitude           0\n",
       "bikeid                          0\n",
       "usertype                        0\n",
       "birth year                 228596\n",
       "gender                          0\n",
       "dtype: int64"
      ]
     },
     "execution_count": 198,
     "metadata": {},
     "output_type": "execute_result"
    }
   ],
   "source": [
    "df.isnull().sum()"
   ]
  },
  {
   "cell_type": "code",
   "execution_count": 199,
   "id": "18c93788",
   "metadata": {},
   "outputs": [
    {
     "data": {
      "text/plain": [
       "(1735599, 14)"
      ]
     },
     "execution_count": 199,
     "metadata": {},
     "output_type": "execute_result"
    }
   ],
   "source": [
    "df = df.dropna(axis=1, how='any')\n",
    "df.shape"
   ]
  },
  {
   "cell_type": "code",
   "execution_count": 200,
   "id": "87118909",
   "metadata": {},
   "outputs": [],
   "source": [
    "df = df[df['tripduration'] <= 24*60*60*20]"
   ]
  },
  {
   "cell_type": "code",
   "execution_count": 201,
   "id": "7eb10e80",
   "metadata": {},
   "outputs": [
    {
     "data": {
      "text/plain": [
       "True"
      ]
     },
     "execution_count": 201,
     "metadata": {},
     "output_type": "execute_result"
    }
   ],
   "source": [
    "x1 = len(df['start station id'].unique())\n",
    "y1 = len(df[['start station id', 'start station name']].drop_duplicates())\n",
    "x2 = len(df['end station id'].unique())\n",
    "y2 = len(df[['end station id', 'end station name']].drop_duplicates())\n",
    "\n",
    "x1 == y1 and x2 == y2\n"
   ]
  },
  {
   "cell_type": "code",
   "execution_count": 202,
   "id": "aee93bc7",
   "metadata": {},
   "outputs": [
    {
     "data": {
      "text/plain": [
       "True"
      ]
     },
     "execution_count": 202,
     "metadata": {},
     "output_type": "execute_result"
    }
   ],
   "source": [
    "x1 = len(df['start station id'].unique())\n",
    "y2 = len(df[['start station id', 'start station latitude']].drop_duplicates())\n",
    "x2 = len(df['end station id'].unique())\n",
    "y2 = len(df[['end station id', 'end station latitude']].drop_duplicates())\n",
    "\n",
    "x1 == y1 and x2 == y2"
   ]
  },
  {
   "cell_type": "code",
   "execution_count": 203,
   "id": "c852a120",
   "metadata": {},
   "outputs": [
    {
     "data": {
      "text/plain": [
       "True"
      ]
     },
     "execution_count": 203,
     "metadata": {},
     "output_type": "execute_result"
    }
   ],
   "source": [
    "x1 = len(df['start station id'].unique())\n",
    "y2 = len(df[['start station id', 'start station longitude']].drop_duplicates())\n",
    "x2 = len(df['end station id'].unique())\n",
    "y2 = len(df[['end station id', 'end station longitude']].drop_duplicates())\n",
    "\n",
    "x1 == y1 and x2 == y2"
   ]
  },
  {
   "cell_type": "code",
   "execution_count": 204,
   "id": "8d1d03be",
   "metadata": {},
   "outputs": [],
   "source": [
    "t1 = df[['start station id', 'start station name', 'start station latitude', 'start station longitude']] \\\n",
    "            .drop_duplicates().rename(columns = {'start station id':'station id', \\\n",
    "                                                 'start station name':'station name', \\\n",
    "                                                 'start station latitude':'station latitude', \n",
    "                                                 'start station longitude': 'station longitude'})\n",
    "t2 = df[['end station id', 'end station name', 'end station latitude', 'end station longitude']] \\\n",
    "        .drop_duplicates().rename(columns = {'end station id':'station id', \\\n",
    "                                             'end station name':'station name', \\\n",
    "                                             'end station latitude':'station latitude', \\\n",
    "                                             'end station longitude': 'station longitude'})\n",
    "df_loc = pd.concat([t1, t2]).drop_duplicates()"
   ]
  },
  {
   "cell_type": "code",
   "execution_count": 205,
   "id": "1d858443",
   "metadata": {},
   "outputs": [
    {
     "data": {
      "text/html": [
       "<div>\n",
       "<style scoped>\n",
       "    .dataframe tbody tr th:only-of-type {\n",
       "        vertical-align: middle;\n",
       "    }\n",
       "\n",
       "    .dataframe tbody tr th {\n",
       "        vertical-align: top;\n",
       "    }\n",
       "\n",
       "    .dataframe thead th {\n",
       "        text-align: right;\n",
       "    }\n",
       "</style>\n",
       "<table border=\"1\" class=\"dataframe\">\n",
       "  <thead>\n",
       "    <tr style=\"text-align: right;\">\n",
       "      <th></th>\n",
       "      <th>station id</th>\n",
       "      <th>station name</th>\n",
       "      <th>station latitude</th>\n",
       "      <th>station longitude</th>\n",
       "    </tr>\n",
       "  </thead>\n",
       "  <tbody>\n",
       "    <tr>\n",
       "      <th>0</th>\n",
       "      <td>539</td>\n",
       "      <td>Metropolitan Ave &amp; Bedford Ave</td>\n",
       "      <td>40.715348</td>\n",
       "      <td>-73.960241</td>\n",
       "    </tr>\n",
       "    <tr>\n",
       "      <th>1</th>\n",
       "      <td>293</td>\n",
       "      <td>Lafayette St &amp; E 8 St</td>\n",
       "      <td>40.730207</td>\n",
       "      <td>-73.991026</td>\n",
       "    </tr>\n",
       "    <tr>\n",
       "      <th>2</th>\n",
       "      <td>3242</td>\n",
       "      <td>Schermerhorn St &amp; Court St</td>\n",
       "      <td>40.691029</td>\n",
       "      <td>-73.991834</td>\n",
       "    </tr>\n",
       "    <tr>\n",
       "      <th>3</th>\n",
       "      <td>2002</td>\n",
       "      <td>Wythe Ave &amp; Metropolitan Ave</td>\n",
       "      <td>40.716887</td>\n",
       "      <td>-73.963198</td>\n",
       "    </tr>\n",
       "    <tr>\n",
       "      <th>5</th>\n",
       "      <td>361</td>\n",
       "      <td>Allen St &amp; Hester St</td>\n",
       "      <td>40.716059</td>\n",
       "      <td>-73.991908</td>\n",
       "    </tr>\n",
       "  </tbody>\n",
       "</table>\n",
       "</div>"
      ],
      "text/plain": [
       "   station id                    station name  station latitude  \\\n",
       "0         539  Metropolitan Ave & Bedford Ave         40.715348   \n",
       "1         293           Lafayette St & E 8 St         40.730207   \n",
       "2        3242      Schermerhorn St & Court St         40.691029   \n",
       "3        2002    Wythe Ave & Metropolitan Ave         40.716887   \n",
       "5         361            Allen St & Hester St         40.716059   \n",
       "\n",
       "   station longitude  \n",
       "0         -73.960241  \n",
       "1         -73.991026  \n",
       "2         -73.991834  \n",
       "3         -73.963198  \n",
       "5         -73.991908  "
      ]
     },
     "execution_count": 205,
     "metadata": {},
     "output_type": "execute_result"
    }
   ],
   "source": [
    "df = df[df['start station id']!=3036]\n",
    "df = df[df['end station id']!=3036]\n",
    "df_loc = df_loc[df_loc['station id']!=3036]\n",
    "df_loc.head()"
   ]
  },
  {
   "cell_type": "code",
   "execution_count": 206,
   "id": "f1c36bd6",
   "metadata": {},
   "outputs": [
    {
     "name": "stdout",
     "output_type": "stream",
     "text": [
      "<class 'pandas.core.frame.DataFrame'>\n",
      "Int64Index: 1735591 entries, 0 to 1735598\n",
      "Data columns (total 14 columns):\n",
      " #   Column                   Dtype         \n",
      "---  ------                   -----         \n",
      " 0   tripduration             int64         \n",
      " 1   starttime                datetime64[ns]\n",
      " 2   stoptime                 datetime64[ns]\n",
      " 3   start station id         int64         \n",
      " 4   start station name       object        \n",
      " 5   start station latitude   float64       \n",
      " 6   start station longitude  float64       \n",
      " 7   end station id           int64         \n",
      " 8   end station name         object        \n",
      " 9   end station latitude     float64       \n",
      " 10  end station longitude    float64       \n",
      " 11  bikeid                   int64         \n",
      " 12  usertype                 object        \n",
      " 13  gender                   int64         \n",
      "dtypes: datetime64[ns](2), float64(4), int64(5), object(3)\n",
      "memory usage: 198.6+ MB\n"
     ]
    }
   ],
   "source": [
    "df['starttime'] = pd.to_datetime(df['starttime'], format='%Y-%m-%d %H:%M:%S')\n",
    "df['stoptime'] =pd.to_datetime(df['stoptime'], format='%Y-%m-%d %H:%M:%S')\n",
    "df.info()"
   ]
  },
  {
   "cell_type": "code",
   "execution_count": 207,
   "id": "2dca6e4b",
   "metadata": {},
   "outputs": [
    {
     "data": {
      "text/html": [
       "<div>\n",
       "<style scoped>\n",
       "    .dataframe tbody tr th:only-of-type {\n",
       "        vertical-align: middle;\n",
       "    }\n",
       "\n",
       "    .dataframe tbody tr th {\n",
       "        vertical-align: top;\n",
       "    }\n",
       "\n",
       "    .dataframe thead th {\n",
       "        text-align: right;\n",
       "    }\n",
       "</style>\n",
       "<table border=\"1\" class=\"dataframe\">\n",
       "  <thead>\n",
       "    <tr style=\"text-align: right;\">\n",
       "      <th></th>\n",
       "      <th>start station id</th>\n",
       "      <th>starttime</th>\n",
       "      <th>start_seg</th>\n",
       "      <th>end station id</th>\n",
       "      <th>stoptime</th>\n",
       "      <th>stop_seg</th>\n",
       "    </tr>\n",
       "  </thead>\n",
       "  <tbody>\n",
       "    <tr>\n",
       "      <th>0</th>\n",
       "      <td>539</td>\n",
       "      <td>2017-07-01 00:00:00</td>\n",
       "      <td>2017-7-1 0:00</td>\n",
       "      <td>3107</td>\n",
       "      <td>2017-07-01 00:06:05</td>\n",
       "      <td>2017-7-1 0:00</td>\n",
       "    </tr>\n",
       "    <tr>\n",
       "      <th>1</th>\n",
       "      <td>293</td>\n",
       "      <td>2017-07-01 00:00:03</td>\n",
       "      <td>2017-7-1 0:00</td>\n",
       "      <td>3425</td>\n",
       "      <td>2017-07-01 00:35:46</td>\n",
       "      <td>2017-7-1 0:30</td>\n",
       "    </tr>\n",
       "    <tr>\n",
       "      <th>2</th>\n",
       "      <td>3242</td>\n",
       "      <td>2017-07-01 00:00:08</td>\n",
       "      <td>2017-7-1 0:00</td>\n",
       "      <td>3397</td>\n",
       "      <td>2017-07-01 00:05:37</td>\n",
       "      <td>2017-7-1 0:00</td>\n",
       "    </tr>\n",
       "    <tr>\n",
       "      <th>3</th>\n",
       "      <td>2002</td>\n",
       "      <td>2017-07-01 00:00:11</td>\n",
       "      <td>2017-7-1 0:00</td>\n",
       "      <td>398</td>\n",
       "      <td>2017-07-01 00:42:22</td>\n",
       "      <td>2017-7-1 0:30</td>\n",
       "    </tr>\n",
       "    <tr>\n",
       "      <th>4</th>\n",
       "      <td>2002</td>\n",
       "      <td>2017-07-01 00:00:15</td>\n",
       "      <td>2017-7-1 0:00</td>\n",
       "      <td>398</td>\n",
       "      <td>2017-07-01 00:42:29</td>\n",
       "      <td>2017-7-1 0:30</td>\n",
       "    </tr>\n",
       "  </tbody>\n",
       "</table>\n",
       "</div>"
      ],
      "text/plain": [
       "   start station id           starttime      start_seg  end station id  \\\n",
       "0               539 2017-07-01 00:00:00  2017-7-1 0:00            3107   \n",
       "1               293 2017-07-01 00:00:03  2017-7-1 0:00            3425   \n",
       "2              3242 2017-07-01 00:00:08  2017-7-1 0:00            3397   \n",
       "3              2002 2017-07-01 00:00:11  2017-7-1 0:00             398   \n",
       "4              2002 2017-07-01 00:00:15  2017-7-1 0:00             398   \n",
       "\n",
       "             stoptime       stop_seg  \n",
       "0 2017-07-01 00:06:05  2017-7-1 0:00  \n",
       "1 2017-07-01 00:35:46  2017-7-1 0:30  \n",
       "2 2017-07-01 00:05:37  2017-7-1 0:00  \n",
       "3 2017-07-01 00:42:22  2017-7-1 0:30  \n",
       "4 2017-07-01 00:42:29  2017-7-1 0:30  "
      ]
     },
     "execution_count": 207,
     "metadata": {},
     "output_type": "execute_result"
    }
   ],
   "source": [
    "def gen_time_segment(dt):\n",
    "    if dt.minute < 30:\n",
    "        minute = \"%02d\" % 0\n",
    "    else:\n",
    "        minute = \"%02d\" % 30\n",
    "    return \"{}-{}-{} {}:{}\".format(dt.year, dt.month, dt.day, dt.hour, minute)\n",
    "\n",
    "df['start_seg'] = [gen_time_segment(dt) for dt in df['starttime']]\n",
    "df['stop_seg'] = [gen_time_segment(dt) for dt in df['stoptime']]\n",
    "\n",
    "df[['start station id', 'starttime', 'start_seg', 'end station id', 'stoptime', 'stop_seg']].head()"
   ]
  },
  {
   "cell_type": "code",
   "execution_count": 208,
   "id": "c038b3b3",
   "metadata": {},
   "outputs": [],
   "source": [
    "inflow = df[['end station id', 'stop_seg']] \\\n",
    "            .groupby(['end station id', 'stop_seg']) \\\n",
    "            .size().reset_index(name='counts') \\\n",
    "            .rename(columns={'end station id':'station id','stop_seg':'time', 'counts':'in_flow_count'})\n",
    "\n",
    "outflow = df[['start station id', 'start_seg']] \\\n",
    "            .groupby(['start station id', 'start_seg']) \\\n",
    "            .size().reset_index(name='counts') \\\n",
    "            .rename(columns={'start station id':'station id','start_seg':'time', 'counts':'out_flow_count'})"
   ]
  },
  {
   "cell_type": "code",
   "execution_count": 209,
   "id": "19900d73",
   "metadata": {
    "scrolled": true
   },
   "outputs": [
    {
     "data": {
      "text/html": [
       "<div>\n",
       "<style scoped>\n",
       "    .dataframe tbody tr th:only-of-type {\n",
       "        vertical-align: middle;\n",
       "    }\n",
       "\n",
       "    .dataframe tbody tr th {\n",
       "        vertical-align: top;\n",
       "    }\n",
       "\n",
       "    .dataframe thead th {\n",
       "        text-align: right;\n",
       "    }\n",
       "</style>\n",
       "<table border=\"1\" class=\"dataframe\">\n",
       "  <thead>\n",
       "    <tr style=\"text-align: right;\">\n",
       "      <th></th>\n",
       "      <th>station id</th>\n",
       "      <th>time</th>\n",
       "      <th>in_flow_count</th>\n",
       "      <th>out_flow_count</th>\n",
       "    </tr>\n",
       "  </thead>\n",
       "  <tbody>\n",
       "    <tr>\n",
       "      <th>0</th>\n",
       "      <td>539</td>\n",
       "      <td>2017-07-01 00:00:00</td>\n",
       "      <td>1.0</td>\n",
       "      <td>1.0</td>\n",
       "    </tr>\n",
       "    <tr>\n",
       "      <th>1</th>\n",
       "      <td>539</td>\n",
       "      <td>2017-07-01 00:30:00</td>\n",
       "      <td>0.0</td>\n",
       "      <td>5.0</td>\n",
       "    </tr>\n",
       "    <tr>\n",
       "      <th>2</th>\n",
       "      <td>539</td>\n",
       "      <td>2017-07-01 01:00:00</td>\n",
       "      <td>0.0</td>\n",
       "      <td>0.0</td>\n",
       "    </tr>\n",
       "    <tr>\n",
       "      <th>3</th>\n",
       "      <td>539</td>\n",
       "      <td>2017-07-01 01:30:00</td>\n",
       "      <td>0.0</td>\n",
       "      <td>0.0</td>\n",
       "    </tr>\n",
       "    <tr>\n",
       "      <th>4</th>\n",
       "      <td>539</td>\n",
       "      <td>2017-07-01 02:00:00</td>\n",
       "      <td>1.0</td>\n",
       "      <td>3.0</td>\n",
       "    </tr>\n",
       "  </tbody>\n",
       "</table>\n",
       "</div>"
      ],
      "text/plain": [
       "   station id                time  in_flow_count  out_flow_count\n",
       "0         539 2017-07-01 00:00:00            1.0             1.0\n",
       "1         539 2017-07-01 00:30:00            0.0             5.0\n",
       "2         539 2017-07-01 01:00:00            0.0             0.0\n",
       "3         539 2017-07-01 01:30:00            0.0             0.0\n",
       "4         539 2017-07-01 02:00:00            1.0             3.0"
      ]
     },
     "execution_count": 209,
     "metadata": {},
     "output_type": "execute_result"
    }
   ],
   "source": [
    "station_id_list = list(df_loc['station id'])\n",
    "\n",
    "# Create combinations of time series and station ids\n",
    "time_seg_list = list(pd.date_range(\"2017-07-01 00:00:00\", \"2017-07-31 23:30:00\", freq=\"30min\"))\n",
    "template = pd.DataFrame(list(itertools.product(station_id_list, time_seg_list)), \\\n",
    "                        columns=[\"station id\", \"time\"])\n",
    "\n",
    "# Merge in/out flow information & Add zeros to missing data according to every time segment\n",
    "df_flow = pd.merge(inflow, outflow, on=['station id', 'time'], how='outer')\n",
    "df_flow['time'] = pd.to_datetime(df_flow['time'], format='%Y-%m-%d %H:%M')\n",
    "df_flow = df_flow.merge(template, on=[\"station id\", \"time\"], how=\"right\").fillna(0)\n",
    "df_flow.head()"
   ]
  },
  {
   "cell_type": "code",
   "execution_count": 210,
   "id": "2706a283",
   "metadata": {},
   "outputs": [
    {
     "name": "stdout",
     "output_type": "stream",
     "text": [
      "Requirement already satisfied: apyori in /Users/sreechandanakurella/anaconda3/lib/python3.10/site-packages (1.1.2)\n",
      "Note: you may need to restart the kernel to use updated packages.\n"
     ]
    }
   ],
   "source": [
    "pip install apyori"
   ]
  },
  {
   "cell_type": "code",
   "execution_count": 211,
   "id": "65ffef2e",
   "metadata": {},
   "outputs": [],
   "source": [
    "from apyori import apriori\n",
    "\n",
    "def apriori_find_association_rules(dataset, minsup, minconf):\n",
    "    records = list(apriori(dataset, min_support=minsup, min_confidence=minconf))\n",
    "    return records\n",
    "\n",
    "def apriori_show_mining_results(records):\n",
    "    ap = []\n",
    "    for record in records:\n",
    "        converted_record = record._replace(ordered_statistics=[x._asdict() for x in record.ordered_statistics])\n",
    "        ap.append(converted_record._asdict())\n",
    "    \n",
    "    print(\"Frequent Itemsets:\\n------------------\")\n",
    "    for ptn in ap:\n",
    "        print('({})  support = {}'.format(\", \".join(ptn[\"items\"]), round(ptn[\"support\"], 3)))\n",
    "    print()\n",
    "    print(\"Rules:\\n------\")\n",
    "    for ptn in ap:\n",
    "        for rule in ptn[\"ordered_statistics\"]:\n",
    "            head = rule[\"items_base\"]\n",
    "            tail = rule[\"items_add\"]\n",
    "            if len(head) == 0 or len(tail) == 0:\n",
    "                continue\n",
    "            confidence = rule[\"confidence\"]\n",
    "            print('({}) ==> ({})  confidence = {}'.format(', '.join(head), ', '.join(tail), round(confidence, 3)))\n",
    "    print()"
   ]
  },
  {
   "cell_type": "markdown",
   "id": "918b1697",
   "metadata": {},
   "source": [
    "## Find Rules between in-flow and out-flow of Station 519"
   ]
  },
  {
   "cell_type": "code",
   "execution_count": 212,
   "id": "110811cd",
   "metadata": {},
   "outputs": [
    {
     "data": {
      "text/html": [
       "<div>\n",
       "<style scoped>\n",
       "    .dataframe tbody tr th:only-of-type {\n",
       "        vertical-align: middle;\n",
       "    }\n",
       "\n",
       "    .dataframe tbody tr th {\n",
       "        vertical-align: top;\n",
       "    }\n",
       "\n",
       "    .dataframe thead th {\n",
       "        text-align: right;\n",
       "    }\n",
       "</style>\n",
       "<table border=\"1\" class=\"dataframe\">\n",
       "  <thead>\n",
       "    <tr style=\"text-align: right;\">\n",
       "      <th></th>\n",
       "      <th>in_flow_count</th>\n",
       "      <th>out_flow_count</th>\n",
       "    </tr>\n",
       "  </thead>\n",
       "  <tbody>\n",
       "    <tr>\n",
       "      <th>255936</th>\n",
       "      <td>3.0</td>\n",
       "      <td>1.0</td>\n",
       "    </tr>\n",
       "    <tr>\n",
       "      <th>255937</th>\n",
       "      <td>1.0</td>\n",
       "      <td>1.0</td>\n",
       "    </tr>\n",
       "    <tr>\n",
       "      <th>255938</th>\n",
       "      <td>2.0</td>\n",
       "      <td>2.0</td>\n",
       "    </tr>\n",
       "    <tr>\n",
       "      <th>255939</th>\n",
       "      <td>1.0</td>\n",
       "      <td>2.0</td>\n",
       "    </tr>\n",
       "    <tr>\n",
       "      <th>255940</th>\n",
       "      <td>0.0</td>\n",
       "      <td>1.0</td>\n",
       "    </tr>\n",
       "  </tbody>\n",
       "</table>\n",
       "</div>"
      ],
      "text/plain": [
       "        in_flow_count  out_flow_count\n",
       "255936            3.0             1.0\n",
       "255937            1.0             1.0\n",
       "255938            2.0             2.0\n",
       "255939            1.0             2.0\n",
       "255940            0.0             1.0"
      ]
     },
     "execution_count": 212,
     "metadata": {},
     "output_type": "execute_result"
    }
   ],
   "source": [
    "dat = df_flow[df_flow['station id'] == 519][['in_flow_count', 'out_flow_count']]\n",
    "dat.head(5)"
   ]
  },
  {
   "cell_type": "code",
   "execution_count": 213,
   "id": "8ceb47d3",
   "metadata": {},
   "outputs": [
    {
     "data": {
      "text/plain": [
       "in_flow_count     0\n",
       "out_flow_count    0\n",
       "dtype: int64"
      ]
     },
     "execution_count": 213,
     "metadata": {},
     "output_type": "execute_result"
    }
   ],
   "source": [
    "pd.isnull(dat).sum()"
   ]
  },
  {
   "cell_type": "code",
   "execution_count": 214,
   "id": "2411adda",
   "metadata": {},
   "outputs": [
    {
     "name": "stdout",
     "output_type": "stream",
     "text": [
      "Min: 0.0\n",
      "Max: 116.0\n"
     ]
    }
   ],
   "source": [
    "print(\"Min: {}\\nMax: {}\".format(dat.values.min(), dat.values.max()))"
   ]
  },
  {
   "cell_type": "code",
   "execution_count": 215,
   "id": "97dd2032",
   "metadata": {},
   "outputs": [
    {
     "data": {
      "image/png": "[encoded data removed]",
      "text/plain": [
       "<Figure size 1500x500 with 4 Axes>"
      ]
     },
     "metadata": {},
     "output_type": "display_data"
    }
   ],
   "source": [
    "fig, axes = plt.subplots(nrows=2, ncols=2, figsize=(15,5))\n",
    "\n",
    "ax = plt.subplot(2, 2, 1)\n",
    "dat['in_flow_count'].hist(bins=25)\n",
    "ax.set_title(\"in flow count\")\n",
    "\n",
    "ax = plt.subplot(2, 2, 2)\n",
    "dat['out_flow_count'].hist(bins=25)\n",
    "ax.set_title(\"out flow count\")\n",
    "\n",
    "ax = plt.subplot(2, 2, 3)\n",
    "ax.set_yscale('log')\n",
    "dat['in_flow_count'].hist(bins=25)\n",
    "ax.set_title(\"in flow count (log scale)\")\n",
    "\n",
    "ax = plt.subplot(2, 2, 4)\n",
    "ax.set_yscale('log')\n",
    "dat['out_flow_count'].hist(bins=25)\n",
    "ax.set_title(\"out flow count (log scale)\")\n",
    "\n",
    "fig.tight_layout()"
   ]
  },
  {
   "cell_type": "code",
   "execution_count": 216,
   "id": "8b1ae1f4",
   "metadata": {},
   "outputs": [],
   "source": [
    "dat_1 = copy.deepcopy(dat)"
   ]
  },
  {
   "cell_type": "code",
   "execution_count": 217,
   "id": "d2fffd19",
   "metadata": {},
   "outputs": [
    {
     "data": {
      "text/plain": [
       "(-0.091, 18.2]    1263\n",
       "(18.2, 36.4]       141\n",
       "(36.4, 54.6]        48\n",
       "(54.6, 72.8]        34\n",
       "(72.8, 91.0]         2\n",
       "Name: in_flow_count, dtype: int64"
      ]
     },
     "execution_count": 217,
     "metadata": {},
     "output_type": "execute_result"
    }
   ],
   "source": [
    "dat_1['in_flow_count'] = pd.cut(dat_1['in_flow_count'], bins = 5, \\\n",
    "                                labels = [\"in.level-1\", \"in.level-2\", \"in.level-3\", \\\n",
    "                                          \"in.level-4\", \"in.level-5\"]).astype(str)\n",
    "pd.cut(dat['in_flow_count'], bins = 5).value_counts()"
   ]
  },
  {
   "cell_type": "code",
   "execution_count": 218,
   "id": "40d56241",
   "metadata": {
    "scrolled": true
   },
   "outputs": [
    {
     "data": {
      "text/plain": [
       "(-0.116, 23.2]    1317\n",
       "(23.2, 46.4]       111\n",
       "(46.4, 69.6]        40\n",
       "(69.6, 92.8]        18\n",
       "(92.8, 116.0]        2\n",
       "Name: out_flow_count, dtype: int64"
      ]
     },
     "execution_count": 218,
     "metadata": {},
     "output_type": "execute_result"
    }
   ],
   "source": [
    "dat_1['out_flow_count'] = pd.cut(dat_1['out_flow_count'], bins = 5, \\\n",
    "                                labels = [\"out.level-1\", \"out.level-2\", \"out.level-3\", \\\n",
    "                                          \"out.level-4\", \"out.level-5\"]).astype(str)\n",
    "pd.cut(dat['out_flow_count'], bins = 5).value_counts()"
   ]
  },
  {
   "cell_type": "code",
   "execution_count": 219,
   "id": "47d00880",
   "metadata": {},
   "outputs": [],
   "source": [
    "dat_2 = copy.deepcopy(dat)"
   ]
  },
  {
   "cell_type": "code",
   "execution_count": 220,
   "id": "67f62137",
   "metadata": {
    "scrolled": true
   },
   "outputs": [
    {
     "data": {
      "text/plain": [
       "(-0.001, 1.0]    403\n",
       "(3.0, 7.0]       315\n",
       "(7.0, 14.0]      283\n",
       "(14.0, 91.0]     278\n",
       "(1.0, 3.0]       209\n",
       "Name: in_flow_count, dtype: int64"
      ]
     },
     "execution_count": 220,
     "metadata": {},
     "output_type": "execute_result"
    }
   ],
   "source": [
    "dat_2['in_flow_count'] = pd.qcut(dat_2['in_flow_count'], q = 5, \\\n",
    "                                labels = [\"in.zero\", \"in.extreme-low\", \"in.low\", \\\n",
    "                                          \"in.medium\", \"in.high\"]).astype(str)\n",
    "pd.qcut(dat['in_flow_count'], q = 5).value_counts()"
   ]
  },
  {
   "cell_type": "code",
   "execution_count": 221,
   "id": "9a3e2f7d",
   "metadata": {
    "scrolled": true
   },
   "outputs": [
    {
     "data": {
      "text/plain": [
       "(-0.001, 1.0]    423\n",
       "(3.0, 7.0]       307\n",
       "(7.0, 14.0]      292\n",
       "(14.0, 116.0]    284\n",
       "(1.0, 3.0]       182\n",
       "Name: out_flow_count, dtype: int64"
      ]
     },
     "execution_count": 221,
     "metadata": {},
     "output_type": "execute_result"
    }
   ],
   "source": [
    "dat_2['out_flow_count'] = pd.qcut(dat_2['out_flow_count'], q = 5, \\\n",
    "                                labels = [\"out.zero\", \"out.extreme-low\", \"out.low\", \\\n",
    "                                          \"out.medium\", \"out.high\"]).astype(str)\n",
    "pd.qcut(dat['out_flow_count'], q = 5).value_counts()"
   ]
  },
  {
   "cell_type": "code",
   "execution_count": 222,
   "id": "17ddbc07",
   "metadata": {},
   "outputs": [
    {
     "name": "stdout",
     "output_type": "stream",
     "text": [
      "Apriori\n",
      "********\n",
      "CPU times: user 1.37 ms, sys: 298 µs, total: 1.67 ms\n",
      "Wall time: 1.97 ms\n"
     ]
    }
   ],
   "source": [
    "%%time\n",
    "print(\"Apriori\\n********\")\n",
    "ap = apriori_find_association_rules(dat_1.values.tolist(), 0.1, 0.2)"
   ]
  },
  {
   "cell_type": "code",
   "execution_count": 223,
   "id": "76ca6591",
   "metadata": {},
   "outputs": [
    {
     "name": "stdout",
     "output_type": "stream",
     "text": [
      "Frequent Itemsets:\n",
      "------------------\n",
      "(in.level-1)  support = 0.849\n",
      "(out.level-1)  support = 0.885\n",
      "(out.level-1, in.level-1)  support = 0.847\n",
      "\n",
      "Rules:\n",
      "------\n",
      "(in.level-1) ==> (out.level-1)  confidence = 0.998\n",
      "(out.level-1) ==> (in.level-1)  confidence = 0.957\n",
      "\n"
     ]
    }
   ],
   "source": [
    "apriori_show_mining_results(ap)"
   ]
  },
  {
   "cell_type": "code",
   "execution_count": 224,
   "id": "04a54974",
   "metadata": {},
   "outputs": [
    {
     "name": "stdout",
     "output_type": "stream",
     "text": [
      "Apriori\n",
      "********\n",
      "CPU times: user 1.58 ms, sys: 150 µs, total: 1.73 ms\n",
      "Wall time: 1.92 ms\n"
     ]
    }
   ],
   "source": [
    "%%time\n",
    "print(\"Apriori\\n********\")\n",
    "ap = apriori_find_association_rules(dat_2.values.tolist(), 0.1, 0.2)"
   ]
  },
  {
   "cell_type": "code",
   "execution_count": 225,
   "id": "2d498c26",
   "metadata": {},
   "outputs": [
    {
     "name": "stdout",
     "output_type": "stream",
     "text": [
      "Frequent Itemsets:\n",
      "------------------\n",
      "(in.low)  support = 0.212\n",
      "(in.zero)  support = 0.271\n",
      "(out.low)  support = 0.206\n",
      "(out.zero)  support = 0.284\n",
      "(out.high, in.high)  support = 0.164\n",
      "(in.medium, out.medium)  support = 0.101\n",
      "(out.zero, in.zero)  support = 0.222\n",
      "\n",
      "Rules:\n",
      "------\n",
      "(in.high) ==> (out.high)  confidence = 0.878\n",
      "(out.high) ==> (in.high)  confidence = 0.859\n",
      "(in.medium) ==> (out.medium)  confidence = 0.53\n",
      "(out.medium) ==> (in.medium)  confidence = 0.514\n",
      "(in.zero) ==> (out.zero)  confidence = 0.821\n",
      "(out.zero) ==> (in.zero)  confidence = 0.783\n",
      "\n"
     ]
    }
   ],
   "source": [
    "apriori_show_mining_results(ap)"
   ]
  },
  {
   "cell_type": "markdown",
   "id": "96a7762b",
   "metadata": {},
   "source": [
    "## Find Rules between Time of a Day and Flows of station 519"
   ]
  },
  {
   "cell_type": "code",
   "execution_count": 226,
   "id": "ccdb28fa",
   "metadata": {},
   "outputs": [
    {
     "data": {
      "text/html": [
       "<div>\n",
       "<style scoped>\n",
       "    .dataframe tbody tr th:only-of-type {\n",
       "        vertical-align: middle;\n",
       "    }\n",
       "\n",
       "    .dataframe tbody tr th {\n",
       "        vertical-align: top;\n",
       "    }\n",
       "\n",
       "    .dataframe thead th {\n",
       "        text-align: right;\n",
       "    }\n",
       "</style>\n",
       "<table border=\"1\" class=\"dataframe\">\n",
       "  <thead>\n",
       "    <tr style=\"text-align: right;\">\n",
       "      <th></th>\n",
       "      <th>time</th>\n",
       "      <th>flow_count</th>\n",
       "    </tr>\n",
       "  </thead>\n",
       "  <tbody>\n",
       "    <tr>\n",
       "      <th>255936</th>\n",
       "      <td>00:00</td>\n",
       "      <td>4.0</td>\n",
       "    </tr>\n",
       "    <tr>\n",
       "      <th>255937</th>\n",
       "      <td>00:30</td>\n",
       "      <td>2.0</td>\n",
       "    </tr>\n",
       "    <tr>\n",
       "      <th>255938</th>\n",
       "      <td>01:00</td>\n",
       "      <td>4.0</td>\n",
       "    </tr>\n",
       "    <tr>\n",
       "      <th>255939</th>\n",
       "      <td>01:30</td>\n",
       "      <td>3.0</td>\n",
       "    </tr>\n",
       "    <tr>\n",
       "      <th>255940</th>\n",
       "      <td>02:00</td>\n",
       "      <td>1.0</td>\n",
       "    </tr>\n",
       "  </tbody>\n",
       "</table>\n",
       "</div>"
      ],
      "text/plain": [
       "         time  flow_count\n",
       "255936  00:00         4.0\n",
       "255937  00:30         2.0\n",
       "255938  01:00         4.0\n",
       "255939  01:30         3.0\n",
       "255940  02:00         1.0"
      ]
     },
     "execution_count": 226,
     "metadata": {},
     "output_type": "execute_result"
    }
   ],
   "source": [
    "dat = df_flow[df_flow['station id'] == 519][['time', 'in_flow_count', 'out_flow_count']]\n",
    "dat['flow_count'] = dat['in_flow_count'] + dat['out_flow_count']\n",
    "dat['time'] = [\"{:02d}:{:02d}\".format(dt.hour, dt.minute) for dt in dat['time']]\n",
    "dat = dat[['time', 'flow_count']]\n",
    "dat.head(5)"
   ]
  },
  {
   "cell_type": "code",
   "execution_count": 227,
   "id": "c381bb95",
   "metadata": {},
   "outputs": [],
   "source": [
    "dat_1 = copy.deepcopy(dat)"
   ]
  },
  {
   "cell_type": "code",
   "execution_count": 228,
   "id": "6c039c23",
   "metadata": {},
   "outputs": [],
   "source": [
    "dat_1['time'] = [\"{:02d}:00~{:02d}:00\".format(math.floor(int(dt.split('~')[0].split(':')[0])/2)*2, math.floor(int(dt.split('~')[0].split(':')[0])/2)*2+2) for dt in dat_1['time']]\n",
    "dat_1['time'] = dat_1['time'].astype(str)"
   ]
  },
  {
   "cell_type": "code",
   "execution_count": 229,
   "id": "d90e533a",
   "metadata": {},
   "outputs": [
    {
     "data": {
      "text/plain": [
       "(-0.001, 5.0]    521\n",
       "(17.0, 185.0]    486\n",
       "(5.0, 17.0]      481\n",
       "Name: flow_count, dtype: int64"
      ]
     },
     "execution_count": 229,
     "metadata": {},
     "output_type": "execute_result"
    }
   ],
   "source": [
    "dat_1['flow_count'] = pd.qcut(dat_1['flow_count'], q = 3, \\\n",
    "                                labels = [\"low\", \"medium\", \"high\"]).astype(str)\n",
    "\n",
    "pd.qcut(dat['flow_count'], q = 3).value_counts()"
   ]
  },
  {
   "cell_type": "code",
   "execution_count": 230,
   "id": "1c458b43",
   "metadata": {},
   "outputs": [],
   "source": [
    "dat_2 = copy.deepcopy(dat)"
   ]
  },
  {
   "cell_type": "code",
   "execution_count": 231,
   "id": "e0d06eb3",
   "metadata": {},
   "outputs": [],
   "source": [
    "mapping = [\"Night\"] * 6 + [\"Morning\"] * 5 + [\"Noon\"] * 2 + [\"Afternoon\"] * 3 + [\"Evening\"] * 6 + [\"Night\"] * 2\n",
    "\n",
    "# Filter out rows with invalid time data\n",
    "dat_2 = dat_2[dat_2['time'].str.match(r'^\\d{2}:\\d{2}$')]\n",
    "\n",
    "dat_2['time'] = [mapping[math.floor(datetime.strptime(dt, '%H:%M').hour)] for dt in dat_2['time']]"
   ]
  },
  {
   "cell_type": "code",
   "execution_count": 232,
   "id": "dabc3c02",
   "metadata": {
    "scrolled": true
   },
   "outputs": [
    {
     "data": {
      "text/plain": [
       "(-0.001, 5.0]    521\n",
       "(17.0, 185.0]    486\n",
       "(5.0, 17.0]      481\n",
       "Name: flow_count, dtype: int64"
      ]
     },
     "execution_count": 232,
     "metadata": {},
     "output_type": "execute_result"
    }
   ],
   "source": [
    "dat_2['flow_count'] = pd.qcut(dat_2['flow_count'], q = 3, \\\n",
    "                                labels = [\"low\", \"medium\", \"high\"]).astype(str)\n",
    "\n",
    "pd.qcut(dat['flow_count'], q = 3).value_counts()"
   ]
  },
  {
   "cell_type": "code",
   "execution_count": 233,
   "id": "44f52783",
   "metadata": {},
   "outputs": [
    {
     "name": "stdout",
     "output_type": "stream",
     "text": [
      "Apriori\n",
      "********\n",
      "CPU times: user 1.71 ms, sys: 313 µs, total: 2.02 ms\n",
      "Wall time: 1.77 ms\n"
     ]
    }
   ],
   "source": [
    "%%time\n",
    "print(\"Apriori\\n********\")\n",
    "ap = apriori_find_association_rules(dat_1.values.tolist(), 0.05, 0.6)"
   ]
  },
  {
   "cell_type": "code",
   "execution_count": 234,
   "id": "6e033c45",
   "metadata": {},
   "outputs": [
    {
     "name": "stdout",
     "output_type": "stream",
     "text": [
      "Frequent Itemsets:\n",
      "------------------\n",
      "(low, 00:00~02:00)  support = 0.075\n",
      "(02:00~04:00, low)  support = 0.083\n",
      "(04:00~06:00, low)  support = 0.071\n",
      "(high, 08:00~10:00)  support = 0.053\n",
      "(medium, 12:00~14:00)  support = 0.055\n",
      "(16:00~18:00, high)  support = 0.065\n",
      "(18:00~20:00, high)  support = 0.054\n",
      "\n",
      "Rules:\n",
      "------\n",
      "(00:00~02:00) ==> (low)  confidence = 0.903\n",
      "(02:00~04:00) ==> (low)  confidence = 0.992\n",
      "(04:00~06:00) ==> (low)  confidence = 0.855\n",
      "(08:00~10:00) ==> (high)  confidence = 0.637\n",
      "(12:00~14:00) ==> (medium)  confidence = 0.661\n",
      "(16:00~18:00) ==> (high)  confidence = 0.774\n",
      "(18:00~20:00) ==> (high)  confidence = 0.645\n",
      "\n"
     ]
    }
   ],
   "source": [
    "apriori_show_mining_results(ap)"
   ]
  },
  {
   "cell_type": "code",
   "execution_count": 235,
   "id": "8d8b86ad",
   "metadata": {},
   "outputs": [
    {
     "name": "stdout",
     "output_type": "stream",
     "text": [
      "Apriori\n",
      "********\n",
      "CPU times: user 1.9 ms, sys: 81 µs, total: 1.98 ms\n",
      "Wall time: 2.17 ms\n"
     ]
    }
   ],
   "source": [
    "%%time\n",
    "print(\"Apriori\\n********\")\n",
    "ap = apriori_find_association_rules(dat_2.values.tolist(), 0.05, 0.6)"
   ]
  },
  {
   "cell_type": "code",
   "execution_count": 236,
   "id": "53fa403e",
   "metadata": {
    "scrolled": true
   },
   "outputs": [
    {
     "name": "stdout",
     "output_type": "stream",
     "text": [
      "Frequent Itemsets:\n",
      "------------------\n",
      "(Night, low)  support = 0.279\n",
      "(Noon, medium)  support = 0.052\n",
      "\n",
      "Rules:\n",
      "------\n",
      "(Night) ==> (low)  confidence = 0.837\n",
      "(low) ==> (Night)  confidence = 0.797\n",
      "(Noon) ==> (medium)  confidence = 0.621\n",
      "\n"
     ]
    }
   ],
   "source": [
    "apriori_show_mining_results(ap)"
   ]
  },
  {
   "cell_type": "markdown",
   "id": "04aed523",
   "metadata": {},
   "source": [
    "## Find Rules between Station Locations and Their Daily Flows"
   ]
  },
  {
   "cell_type": "code",
   "execution_count": 237,
   "id": "7b4111a7",
   "metadata": {},
   "outputs": [
    {
     "data": {
      "text/html": [
       "<div>\n",
       "<style scoped>\n",
       "    .dataframe tbody tr th:only-of-type {\n",
       "        vertical-align: middle;\n",
       "    }\n",
       "\n",
       "    .dataframe tbody tr th {\n",
       "        vertical-align: top;\n",
       "    }\n",
       "\n",
       "    .dataframe thead th {\n",
       "        text-align: right;\n",
       "    }\n",
       "</style>\n",
       "<table border=\"1\" class=\"dataframe\">\n",
       "  <thead>\n",
       "    <tr style=\"text-align: right;\">\n",
       "      <th></th>\n",
       "      <th>station latitude</th>\n",
       "      <th>station longitude</th>\n",
       "      <th>flow_count</th>\n",
       "    </tr>\n",
       "  </thead>\n",
       "  <tbody>\n",
       "    <tr>\n",
       "      <th>0</th>\n",
       "      <td>40.6554</td>\n",
       "      <td>-74.010628</td>\n",
       "      <td>0.0</td>\n",
       "    </tr>\n",
       "    <tr>\n",
       "      <th>1</th>\n",
       "      <td>40.6554</td>\n",
       "      <td>-74.010628</td>\n",
       "      <td>0.0</td>\n",
       "    </tr>\n",
       "    <tr>\n",
       "      <th>2</th>\n",
       "      <td>40.6554</td>\n",
       "      <td>-74.010628</td>\n",
       "      <td>0.0</td>\n",
       "    </tr>\n",
       "    <tr>\n",
       "      <th>3</th>\n",
       "      <td>40.6554</td>\n",
       "      <td>-74.010628</td>\n",
       "      <td>0.0</td>\n",
       "    </tr>\n",
       "    <tr>\n",
       "      <th>4</th>\n",
       "      <td>40.6554</td>\n",
       "      <td>-74.010628</td>\n",
       "      <td>0.0</td>\n",
       "    </tr>\n",
       "  </tbody>\n",
       "</table>\n",
       "</div>"
      ],
      "text/plain": [
       "   station latitude  station longitude  flow_count\n",
       "0           40.6554         -74.010628         0.0\n",
       "1           40.6554         -74.010628         0.0\n",
       "2           40.6554         -74.010628         0.0\n",
       "3           40.6554         -74.010628         0.0\n",
       "4           40.6554         -74.010628         0.0"
      ]
     },
     "execution_count": 237,
     "metadata": {},
     "output_type": "execute_result"
    }
   ],
   "source": [
    "dat = pd.merge(df_flow, df_loc, on=['station id'], how='left')\n",
    "dat['flow_count'] = dat['in_flow_count'] + dat['out_flow_count']\n",
    "dat['day'] = [dt.day for dt in dat['time']]\n",
    "dat = dat.groupby(['station latitude', 'station longitude', \"day\"], as_index=False) \\\n",
    "            .agg({'flow_count': 'sum'})\n",
    "dat = dat[['station latitude', 'station longitude', 'flow_count']]\n",
    "dat.head(5)"
   ]
  },
  {
   "cell_type": "code",
   "execution_count": 238,
   "id": "0a8d3a2a",
   "metadata": {},
   "outputs": [
    {
     "data": {
      "text/plain": [
       "(40.715, 40.745]    5425\n",
       "(40.685, 40.715]    4805\n",
       "(40.745, 40.774]    3968\n",
       "(40.655, 40.685]    2945\n",
       "(40.774, 40.804]    2480\n",
       "Name: station latitude, dtype: int64"
      ]
     },
     "execution_count": 238,
     "metadata": {},
     "output_type": "execute_result"
    }
   ],
   "source": [
    "pd.cut(dat['station latitude'], bins = 5).value_counts()"
   ]
  },
  {
   "cell_type": "code",
   "execution_count": 239,
   "id": "6188f7a6",
   "metadata": {},
   "outputs": [
    {
     "data": {
      "text/plain": [
       "(-74.012, -73.985]    7626\n",
       "(-73.985, -73.957]    7347\n",
       "(-73.957, -73.93]     3875\n",
       "(-74.04, -74.012]      651\n",
       "(-74.067, -74.04]      124\n",
       "Name: station longitude, dtype: int64"
      ]
     },
     "execution_count": 239,
     "metadata": {},
     "output_type": "execute_result"
    }
   ],
   "source": [
    "pd.cut(dat['station longitude'], bins = 5).value_counts()"
   ]
  },
  {
   "cell_type": "code",
   "execution_count": 240,
   "id": "8ce86328",
   "metadata": {},
   "outputs": [],
   "source": [
    "dat_1 = copy.deepcopy(dat)"
   ]
  },
  {
   "cell_type": "code",
   "execution_count": 241,
   "id": "09446fe1",
   "metadata": {},
   "outputs": [],
   "source": [
    "dat_1['station latitude'] = pd.cut(dat_1['station latitude'], bins = 5).astype(str)\n",
    "dat_1['station latitude'] = \"latitude = \" + dat_1['station latitude']\n",
    "dat_1['station longitude'] = pd.cut(dat_1['station longitude'], bins = 5).astype(str)\n",
    "dat_1['station longitude'] = \"longitude = \"+ dat_1['station longitude'] "
   ]
  },
  {
   "cell_type": "code",
   "execution_count": 242,
   "id": "0703726c",
   "metadata": {},
   "outputs": [
    {
     "data": {
      "text/plain": [
       "(-0.001, 51.0]     3943\n",
       "(51.0, 96.0]       3939\n",
       "(163.0, 286.0]     3923\n",
       "(286.0, 1532.0]    3919\n",
       "(96.0, 163.0]      3899\n",
       "Name: flow_count, dtype: int64"
      ]
     },
     "execution_count": 242,
     "metadata": {},
     "output_type": "execute_result"
    }
   ],
   "source": [
    "dat_1['flow_count'] = pd.qcut(dat_1['flow_count'], q = 5, \\\n",
    "                             labels = [\"extreme-low\", \"low\", \"medium\", \"high\", \"extreme-high\"]).astype(str)\n",
    "pd.qcut(dat['flow_count'], q = 5).value_counts()"
   ]
  },
  {
   "cell_type": "code",
   "execution_count": 243,
   "id": "3cfee87c",
   "metadata": {},
   "outputs": [
    {
     "data": {
      "text/plain": [
       "(40.654, 40.691]    3937\n",
       "(40.691, 40.715]    3937\n",
       "(40.735, 40.762]    3937\n",
       "(40.715, 40.735]    3906\n",
       "(40.762, 40.804]    3906\n",
       "Name: station latitude, dtype: int64"
      ]
     },
     "execution_count": 243,
     "metadata": {},
     "output_type": "execute_result"
    }
   ],
   "source": [
    "pd.qcut(dat['station latitude'], q = 5).value_counts()"
   ]
  },
  {
   "cell_type": "code",
   "execution_count": 244,
   "id": "1e56d149",
   "metadata": {},
   "outputs": [
    {
     "data": {
      "text/plain": [
       "(-74.068, -73.998]    3937\n",
       "(-73.998, -73.987]    3937\n",
       "(-73.976, -73.957]    3937\n",
       "(-73.987, -73.976]    3906\n",
       "(-73.957, -73.93]     3906\n",
       "Name: station longitude, dtype: int64"
      ]
     },
     "execution_count": 244,
     "metadata": {},
     "output_type": "execute_result"
    }
   ],
   "source": [
    "pd.qcut(dat['station longitude'], q = 5).value_counts()"
   ]
  },
  {
   "cell_type": "code",
   "execution_count": 245,
   "id": "39897e3d",
   "metadata": {},
   "outputs": [],
   "source": [
    "dat_2 = copy.deepcopy(dat)"
   ]
  },
  {
   "cell_type": "code",
   "execution_count": 246,
   "id": "502c6629",
   "metadata": {},
   "outputs": [],
   "source": [
    "dat_2['station latitude'] = pd.qcut(dat_2['station latitude'], q = 5).astype(str)\n",
    "dat_2['station latitude'] = \"latitude = \" + dat_2['station latitude']\n",
    "dat_2['station longitude'] = pd.qcut(dat_2['station longitude'], q = 5).astype(str)\n",
    "dat_2['station longitude'] = \"longitude = \"+ dat_2['station longitude'] "
   ]
  },
  {
   "cell_type": "code",
   "execution_count": 247,
   "id": "cc388787",
   "metadata": {},
   "outputs": [
    {
     "data": {
      "text/plain": [
       "(-0.001, 51.0]     3943\n",
       "(51.0, 96.0]       3939\n",
       "(163.0, 286.0]     3923\n",
       "(286.0, 1532.0]    3919\n",
       "(96.0, 163.0]      3899\n",
       "Name: flow_count, dtype: int64"
      ]
     },
     "execution_count": 247,
     "metadata": {},
     "output_type": "execute_result"
    }
   ],
   "source": [
    "dat_2['flow_count'] = pd.qcut(dat_2['flow_count'], q = 5, \\\n",
    "                             labels = [\"extreme-low\", \"low\", \"medium\", \"high\", \"extreme-high\"]).astype(str)\n",
    "pd.qcut(dat['flow_count'], q = 5).value_counts()"
   ]
  },
  {
   "cell_type": "code",
   "execution_count": 248,
   "id": "8a48f78a",
   "metadata": {},
   "outputs": [
    {
     "name": "stdout",
     "output_type": "stream",
     "text": [
      "Apriori\n",
      "********\n",
      "CPU times: user 22.2 ms, sys: 1.49 ms, total: 23.7 ms\n",
      "Wall time: 23 ms\n"
     ]
    }
   ],
   "source": [
    "%%time\n",
    "print(\"Apriori\\n********\")\n",
    "ap = apriori_find_association_rules(dat_1.values.tolist(), 0.08, 0.4)"
   ]
  },
  {
   "cell_type": "code",
   "execution_count": 249,
   "id": "e872d0ed",
   "metadata": {},
   "outputs": [
    {
     "name": "stdout",
     "output_type": "stream",
     "text": [
      "Frequent Itemsets:\n",
      "------------------\n",
      "(latitude = (40.715, 40.745], extreme-high)  support = 0.106\n",
      "(longitude = (-74.012, -73.985], extreme-high)  support = 0.128\n",
      "(longitude = (-74.012, -73.985], high)  support = 0.105\n",
      "(longitude = (-74.012, -73.985], latitude = (40.715, 40.745])  support = 0.142\n",
      "(longitude = (-73.985, -73.957], latitude = (40.745, 40.774])  support = 0.1\n",
      "(low, longitude = (-73.985, -73.957])  support = 0.094\n",
      "(medium, longitude = (-73.985, -73.957])  support = 0.097\n",
      "\n",
      "Rules:\n",
      "------\n",
      "(extreme-high) ==> (latitude = (40.715, 40.745])  confidence = 0.529\n",
      "(extreme-high) ==> (longitude = (-74.012, -73.985])  confidence = 0.64\n",
      "(high) ==> (longitude = (-74.012, -73.985])  confidence = 0.526\n",
      "(latitude = (40.715, 40.745]) ==> (longitude = (-74.012, -73.985])  confidence = 0.514\n",
      "(latitude = (40.745, 40.774]) ==> (longitude = (-73.985, -73.957])  confidence = 0.492\n",
      "(low) ==> (longitude = (-73.985, -73.957])  confidence = 0.469\n",
      "(medium) ==> (longitude = (-73.985, -73.957])  confidence = 0.488\n",
      "\n"
     ]
    }
   ],
   "source": [
    "apriori_show_mining_results(ap)"
   ]
  },
  {
   "cell_type": "code",
   "execution_count": 250,
   "id": "c47b4f30",
   "metadata": {},
   "outputs": [
    {
     "name": "stdout",
     "output_type": "stream",
     "text": [
      "Apriori\n",
      "********\n",
      "CPU times: user 23.4 ms, sys: 1.26 ms, total: 24.7 ms\n",
      "Wall time: 24.1 ms\n"
     ]
    }
   ],
   "source": [
    "%%time\n",
    "print(\"Apriori\\n********\")\n",
    "ap = apriori_find_association_rules(dat_2.values.tolist(), 0.08, 0.4)"
   ]
  },
  {
   "cell_type": "code",
   "execution_count": 251,
   "id": "f2153e7f",
   "metadata": {
    "scrolled": true
   },
   "outputs": [
    {
     "name": "stdout",
     "output_type": "stream",
     "text": [
      "Frequent Itemsets:\n",
      "------------------\n",
      "(extreme-high, latitude = (40.735, 40.762])  support = 0.09\n",
      "(extreme-low, latitude = (40.654, 40.691])  support = 0.081\n",
      "\n",
      "Rules:\n",
      "------\n",
      "(extreme-high) ==> (latitude = (40.735, 40.762])  confidence = 0.451\n",
      "(latitude = (40.735, 40.762]) ==> (extreme-high)  confidence = 0.449\n",
      "(extreme-low) ==> (latitude = (40.654, 40.691])  confidence = 0.403\n",
      "(latitude = (40.654, 40.691]) ==> (extreme-low)  confidence = 0.404\n",
      "\n"
     ]
    }
   ],
   "source": [
    "apriori_show_mining_results(ap)"
   ]
  }
 ],
 "metadata": {
  "kernelspec": {
   "display_name": "Python 3 (ipykernel)",
   "language": "python",
   "name": "python3"
  },
  "language_info": {
   "codemirror_mode": {
    "name": "ipython",
    "version": 3
   },
   "file_extension": ".py",
   "mimetype": "text/x-python",
   "name": "python",
   "nbconvert_exporter": "python",
   "pygments_lexer": "ipython3",
   "version": "3.10.9"
  }
 },
 "nbformat": 4,
 "nbformat_minor": 5
}
